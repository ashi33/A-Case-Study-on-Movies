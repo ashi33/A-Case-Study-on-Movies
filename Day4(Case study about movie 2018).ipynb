{
 "cells": [
  {
   "cell_type": "code",
   "execution_count": 2,
   "metadata": {},
   "outputs": [],
   "source": [
    "import pandas as pd \n",
    "import numpy as np\n",
    "import matplotlib.pyplot as plt\n",
    "import seaborn as sns"
   ]
  },
  {
   "cell_type": "code",
   "execution_count": 4,
   "metadata": {},
   "outputs": [
    {
     "data": {
      "text/html": [
       "<div>\n",
       "<style scoped>\n",
       "    .dataframe tbody tr th:only-of-type {\n",
       "        vertical-align: middle;\n",
       "    }\n",
       "\n",
       "    .dataframe tbody tr th {\n",
       "        vertical-align: top;\n",
       "    }\n",
       "\n",
       "    .dataframe thead th {\n",
       "        text-align: right;\n",
       "    }\n",
       "</style>\n",
       "<table border=\"1\" class=\"dataframe\">\n",
       "  <thead>\n",
       "    <tr style=\"text-align: right;\">\n",
       "      <th></th>\n",
       "      <th>MOVIE NAME</th>\n",
       "      <th>RATING(IMDB)</th>\n",
       "      <th>YEAR</th>\n",
       "      <th>Genre</th>\n",
       "      <th>PEOPLE LIKES(%)</th>\n",
       "      <th>BOX OFFICE COLLECTION(cr)</th>\n",
       "      <th>DURATION(min)</th>\n",
       "      <th>DIRECTOR</th>\n",
       "      <th>CBFC</th>\n",
       "    </tr>\n",
       "  </thead>\n",
       "  <tbody>\n",
       "    <tr>\n",
       "      <th>0</th>\n",
       "      <td>Swades</td>\n",
       "      <td>8.3</td>\n",
       "      <td>2004</td>\n",
       "      <td>Drama</td>\n",
       "      <td>83</td>\n",
       "      <td>34.200</td>\n",
       "      <td>210</td>\n",
       "      <td>Ashutosh Gowariker</td>\n",
       "      <td>U</td>\n",
       "    </tr>\n",
       "    <tr>\n",
       "      <th>1</th>\n",
       "      <td>Veer-Zaara</td>\n",
       "      <td>7.9</td>\n",
       "      <td>2004</td>\n",
       "      <td>Drama</td>\n",
       "      <td>93</td>\n",
       "      <td>97.640</td>\n",
       "      <td>196</td>\n",
       "      <td>Yash Chopra</td>\n",
       "      <td>U</td>\n",
       "    </tr>\n",
       "    <tr>\n",
       "      <th>2</th>\n",
       "      <td>Khakee</td>\n",
       "      <td>7.5</td>\n",
       "      <td>2004</td>\n",
       "      <td>Drama</td>\n",
       "      <td>86</td>\n",
       "      <td>45.000</td>\n",
       "      <td>193</td>\n",
       "      <td>Rajkumar Santoshi</td>\n",
       "      <td>U/A</td>\n",
       "    </tr>\n",
       "    <tr>\n",
       "      <th>3</th>\n",
       "      <td>Lakshya</td>\n",
       "      <td>7.9</td>\n",
       "      <td>2004</td>\n",
       "      <td>Drama</td>\n",
       "      <td>92</td>\n",
       "      <td>41.560</td>\n",
       "      <td>187</td>\n",
       "      <td>Farhan Akhtar</td>\n",
       "      <td>U</td>\n",
       "    </tr>\n",
       "    <tr>\n",
       "      <th>4</th>\n",
       "      <td>Police Force: An Inside Story</td>\n",
       "      <td>5.2</td>\n",
       "      <td>2004</td>\n",
       "      <td>Action</td>\n",
       "      <td>80</td>\n",
       "      <td>2.450</td>\n",
       "      <td>160</td>\n",
       "      <td>Dilip Shukla</td>\n",
       "      <td>A</td>\n",
       "    </tr>\n",
       "    <tr>\n",
       "      <th>5</th>\n",
       "      <td>Raincoat</td>\n",
       "      <td>7.6</td>\n",
       "      <td>2004</td>\n",
       "      <td>Drama</td>\n",
       "      <td>93</td>\n",
       "      <td>4.876</td>\n",
       "      <td>120</td>\n",
       "      <td>Rituparno Ghosh</td>\n",
       "      <td>U</td>\n",
       "    </tr>\n",
       "    <tr>\n",
       "      <th>6</th>\n",
       "      <td>Black Friday</td>\n",
       "      <td>8.6</td>\n",
       "      <td>2004</td>\n",
       "      <td>Crime</td>\n",
       "      <td>92</td>\n",
       "      <td>8.000</td>\n",
       "      <td>167</td>\n",
       "      <td>Anurag Kashyap</td>\n",
       "      <td>A</td>\n",
       "    </tr>\n",
       "    <tr>\n",
       "      <th>7</th>\n",
       "      <td>Hum Tum</td>\n",
       "      <td>7.0</td>\n",
       "      <td>2004</td>\n",
       "      <td>Comedy</td>\n",
       "      <td>90</td>\n",
       "      <td>42.600</td>\n",
       "      <td>143</td>\n",
       "      <td>Kunal Kohli</td>\n",
       "      <td>U</td>\n",
       "    </tr>\n",
       "    <tr>\n",
       "      <th>8</th>\n",
       "      <td>Ab Tak Chhappan</td>\n",
       "      <td>7.9</td>\n",
       "      <td>2004</td>\n",
       "      <td>Drama</td>\n",
       "      <td>94</td>\n",
       "      <td>22.000</td>\n",
       "      <td>150</td>\n",
       "      <td>Shimit Amin</td>\n",
       "      <td>A</td>\n",
       "    </tr>\n",
       "    <tr>\n",
       "      <th>9</th>\n",
       "      <td>Dhoom</td>\n",
       "      <td>6.7</td>\n",
       "      <td>2004</td>\n",
       "      <td>Crime</td>\n",
       "      <td>83</td>\n",
       "      <td>72.470</td>\n",
       "      <td>129</td>\n",
       "      <td>Sanjay Gadhvi</td>\n",
       "      <td>U/A</td>\n",
       "    </tr>\n",
       "  </tbody>\n",
       "</table>\n",
       "</div>"
      ],
      "text/plain": [
       "                      MOVIE NAME  RATING(IMDB)  YEAR   Genre  PEOPLE LIKES(%)  \\\n",
       "0                         Swades           8.3  2004   Drama               83   \n",
       "1                     Veer-Zaara           7.9  2004   Drama               93   \n",
       "2                         Khakee           7.5  2004   Drama               86   \n",
       "3                        Lakshya           7.9  2004   Drama               92   \n",
       "4  Police Force: An Inside Story           5.2  2004  Action               80   \n",
       "5                       Raincoat           7.6  2004   Drama               93   \n",
       "6                   Black Friday           8.6  2004   Crime               92   \n",
       "7                        Hum Tum           7.0  2004  Comedy               90   \n",
       "8                Ab Tak Chhappan           7.9  2004   Drama               94   \n",
       "9                          Dhoom           6.7  2004   Crime               83   \n",
       "\n",
       "   BOX OFFICE COLLECTION(cr)  DURATION(min)            DIRECTOR CBFC  \n",
       "0                     34.200            210  Ashutosh Gowariker    U  \n",
       "1                     97.640            196         Yash Chopra    U  \n",
       "2                     45.000            193   Rajkumar Santoshi  U/A  \n",
       "3                     41.560            187       Farhan Akhtar    U  \n",
       "4                      2.450            160        Dilip Shukla    A  \n",
       "5                      4.876            120     Rituparno Ghosh    U  \n",
       "6                      8.000            167      Anurag Kashyap    A  \n",
       "7                     42.600            143         Kunal Kohli    U  \n",
       "8                     22.000            150         Shimit Amin    A  \n",
       "9                     72.470            129       Sanjay Gadhvi  U/A  "
      ]
     },
     "execution_count": 4,
     "metadata": {},
     "output_type": "execute_result"
    }
   ],
   "source": [
    "#Reading Data\n",
    "link= \"C:/Users/Amit/Desktop/Pandas/\"\n",
    "data= pd.read_excel(link+'Movie.xlsx')\n",
    "data.head(10)"
   ]
  },
  {
   "cell_type": "code",
   "execution_count": 16,
   "metadata": {},
   "outputs": [
    {
     "name": "stdout",
     "output_type": "stream",
     "text": [
      "Highest Rating Movie\n",
      "\n",
      " MOVIE NAME                          Kadvi Hawa\n",
      "RATING(IMDB)                               8.9\n",
      "YEAR                                      2017\n",
      "Genre                                    Drama\n",
      "PEOPLE LIKES(%)                             95\n",
      "BOX OFFICE COLLECTION(cr)                 0.25\n",
      "DURATION(min)                               99\n",
      "DIRECTOR                     Nila Madhab Panda\n",
      "CBFC                                         U\n",
      "Name: 383, dtype: object\n"
     ]
    }
   ],
   "source": [
    "#Highest Rating Movie\n",
    "rat=data[data['RATING(IMDB)']>= data['RATING(IMDB)'].max()]\n",
    "print(\"Highest Rating Movie:-\\n\\n\",rat.iloc[0])\n"
   ]
  },
  {
   "cell_type": "code",
   "execution_count": 18,
   "metadata": {},
   "outputs": [
    {
     "name": "stdout",
     "output_type": "stream",
     "text": [
      "Lowest Rating Movie:-\n",
      "\n",
      " MOVIE NAME                       Namaste England\n",
      "RATING(IMDB)                                 1.5\n",
      "YEAR                                        2018\n",
      "Genre                                    Romance\n",
      "PEOPLE LIKES(%)                               41\n",
      "BOX OFFICE COLLECTION(cr)                   4.18\n",
      "DURATION(min)                                141\n",
      "DIRECTOR                     Vipul Amrutial Shah\n",
      "CBFC                                         U/A\n",
      "Name: 403, dtype: object\n"
     ]
    }
   ],
   "source": [
    "#Lowest Rating Movie\n",
    "rat1=data[data['RATING(IMDB)']<= data['RATING(IMDB)'].min()]\n",
    "print(\"Lowest Rating Movie:-\\n\\n\",rat1.iloc[0])\n"
   ]
  },
  {
   "cell_type": "code",
   "execution_count": 21,
   "metadata": {},
   "outputs": [
    {
     "name": "stdout",
     "output_type": "stream",
     "text": [
      "Latest Movie:-\n",
      "\n",
      " MOVIE NAME                             Sanju\n",
      "RATING(IMDB)                               8\n",
      "YEAR                                    2018\n",
      "Genre                                 Biopic\n",
      "PEOPLE LIKES(%)                           94\n",
      "BOX OFFICE COLLECTION(cr)             586.85\n",
      "DURATION(min)                            161\n",
      "DIRECTOR                     Rajkumar Hirani\n",
      "CBFC                                     U/A\n",
      "Name: 384, dtype: object\n"
     ]
    }
   ],
   "source": [
    "#latest movie\n",
    "rat2=data[data['YEAR']>= data['YEAR'].max()]\n",
    "print(\"Latest Movie:-\\n\\n\",rat2.iloc[0])"
   ]
  },
  {
   "cell_type": "code",
   "execution_count": 49,
   "metadata": {},
   "outputs": [
    {
     "name": "stdout",
     "output_type": "stream",
     "text": [
      "Enter the year:2009\n",
      "Highest rated movie of Year 2009 is 3 Idiots.\n"
     ]
    }
   ],
   "source": [
    "#Latest highest rating movie\n",
    "yr=int(input('Enter the year:'))\n",
    "m=data[data['YEAR']==yr]\n",
    "m.head(m.shape[0])\n",
    "ind=m['RATING(IMDB)'].tolist().index(max(m['RATING(IMDB)'].tolist()))\n",
    "print(\"Highest rated movie of Year {} is {}.\".format(yr,m.iloc[ind))"
   ]
  },
  {
   "cell_type": "code",
   "execution_count": 66,
   "metadata": {},
   "outputs": [
    {
     "name": "stdout",
     "output_type": "stream",
     "text": [
      "Enter the year:2018\n",
      "Highest rated movie of Year 2018 is '102 Not Out' and is rated 7.5.\n"
     ]
    }
   ],
   "source": [
    "#latest High Rated Drama\n",
    "year=int(input('Enter the year:'))\n",
    "m1=data[(data['YEAR']==year) & (data['Genre']== 'Drama')]\n",
    "m1.head(m1.shape[0])\n",
    "indx=m1['RATING(IMDB)'].tolist().index(max(m1['RATING(IMDB)'].tolist()))\n",
    "print(\"Highest rated movie of Year {} is '{}' and is rated {}.\".format(year,m1.iloc[indx][0],m1.iloc[indx][1]))"
   ]
  }
 ],
 "metadata": {
  "kernelspec": {
   "display_name": "Python 3",
   "language": "python",
   "name": "python3"
  },
  "language_info": {
   "codemirror_mode": {
    "name": "ipython",
    "version": 3
   },
   "file_extension": ".py",
   "mimetype": "text/x-python",
   "name": "python",
   "nbconvert_exporter": "python",
   "pygments_lexer": "ipython3",
   "version": "3.7.3"
  }
 },
 "nbformat": 4,
 "nbformat_minor": 2
}
